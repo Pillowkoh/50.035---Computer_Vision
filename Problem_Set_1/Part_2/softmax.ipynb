{
 "cells": [
  {
   "cell_type": "markdown",
   "metadata": {},
   "source": [
    "# Softmax exercise\n",
    "\n",
    "*Complete and hand in this completed worksheet (including its outputs and any supporting code outside of the worksheet) with your assignment submission.*\n",
    "\n",
    "In this exercise, you will:\n",
    "\n",
    "- implement a fully-vectorized **loss function** for the Softmax classifier\n",
    "- implement the fully-vectorized expression for its **analytic gradient**\n",
    "- **check your implementation** with numerical gradient\n",
    "- use a validation set to **tune the learning rate and regularization** strength\n",
    "- **optimize** the loss function with **SGD**\n",
    "- **visualize** the final learned weights\n"
   ]
  },
  {
   "cell_type": "markdown",
   "metadata": {},
   "source": [
    "**Acknowledgement: This exercise is adapted from [Stanford CS231n](http://cs231n.stanford.edu/).**"
   ]
  },
  {
   "cell_type": "code",
   "execution_count": 1,
   "metadata": {},
   "outputs": [],
   "source": [
    "import random\n",
    "import numpy as np\n",
    "from data_utils import load_CIFAR10\n",
    "import matplotlib.pyplot as plt\n",
    "\n",
    "%matplotlib inline\n",
    "plt.rcParams['figure.figsize'] = (10.0, 8.0) # set default size of plots\n",
    "plt.rcParams['image.interpolation'] = 'nearest'\n",
    "plt.rcParams['image.cmap'] = 'gray'\n",
    "\n",
    "# for auto-reloading extenrnal modules\n",
    "# see http://stackoverflow.com/questions/1907993/autoreload-of-modules-in-ipython\n",
    "%load_ext autoreload\n",
    "%autoreload 2"
   ]
  },
  {
   "cell_type": "code",
   "execution_count": 2,
   "metadata": {},
   "outputs": [],
   "source": [
    "def rel_error(out, correct_out):\n",
    "    return np.sum(abs(out - correct_out) / (abs(out) + abs(correct_out)))"
   ]
  },
  {
   "cell_type": "code",
   "execution_count": 3,
   "metadata": {
    "collapsed": true
   },
   "outputs": [
    {
     "name": "stdout",
     "output_type": "stream",
     "text": [
      "Train data shape:  (49000, 3073)\n",
      "Train labels shape:  (49000,)\n",
      "Validation data shape:  (1000, 3073)\n",
      "Validation labels shape:  (1000,)\n",
      "Test data shape:  (1000, 3073)\n",
      "Test labels shape:  (1000,)\n",
      "dev data shape:  (500, 3073)\n",
      "dev labels shape:  (500,)\n"
     ]
    }
   ],
   "source": [
    "def get_CIFAR10_data(num_training=49000, num_validation=1000, num_test=1000, num_dev=500):\n",
    "    \"\"\"\n",
    "    Load the CIFAR-10 dataset from disk and perform preprocessing to prepare\n",
    "    it for the linear classifier. These are the same steps as we used for the\n",
    "    Softmax, but condensed to a single function.  \n",
    "    \"\"\"\n",
    "    # Load the raw CIFAR-10 data\n",
    "    cifar10_dir = 'datasets/cifar-10-batches-py'\n",
    "    X_train, y_train, X_test, y_test = load_CIFAR10(cifar10_dir)\n",
    "\n",
    "    # subsample the data\n",
    "    mask = range(num_training, num_training + num_validation)\n",
    "    X_val = X_train[mask]\n",
    "    y_val = y_train[mask]\n",
    "    mask = range(num_training)\n",
    "    X_train = X_train[mask]\n",
    "    y_train = y_train[mask]\n",
    "    mask = range(num_test)\n",
    "    X_test = X_test[mask]\n",
    "    y_test = y_test[mask]\n",
    "    \n",
    "    # # We will also make a development set, which is a small subset of\n",
    "    # the training set.\n",
    "    mask = np.random.choice(num_training, num_dev, replace=False)\n",
    "    X_dev = X_train[mask]\n",
    "    y_dev = y_train[mask]\n",
    "\n",
    "    # Preprocessing: reshape the image data into rows\n",
    "    X_train = np.reshape(X_train, (X_train.shape[0], -1))\n",
    "    X_val = np.reshape(X_val, (X_val.shape[0], -1))\n",
    "    X_test = np.reshape(X_test, (X_test.shape[0], -1))\n",
    "    X_dev = np.reshape(X_dev, (X_dev.shape[0], -1))\n",
    "\n",
    "    # Normalize the data: subtract the mean image\n",
    "    mean_image = np.mean(X_train, axis = 0)\n",
    "    X_train -= mean_image\n",
    "    X_val -= mean_image\n",
    "    X_test -= mean_image\n",
    "    X_dev -= mean_image\n",
    "\n",
    "    # add bias dimension and transform into columns\n",
    "    X_train = np.hstack([X_train, np.ones((X_train.shape[0], 1))])\n",
    "    X_val = np.hstack([X_val, np.ones((X_val.shape[0], 1))])\n",
    "    X_test = np.hstack([X_test, np.ones((X_test.shape[0], 1))])\n",
    "    X_dev = np.hstack([X_dev, np.ones((X_dev.shape[0], 1))])\n",
    "\n",
    "    return X_train, y_train, X_val, y_val, X_test, y_test, X_dev, y_dev\n",
    "\n",
    "\n",
    "# Invoke the above function to get our data.\n",
    "X_train, y_train, X_val, y_val, X_test, y_test, X_dev, y_dev = get_CIFAR10_data()\n",
    "print('Train data shape: ', X_train.shape)\n",
    "print('Train labels shape: ', y_train.shape)\n",
    "print('Validation data shape: ', X_val.shape)\n",
    "print('Validation labels shape: ', y_val.shape)\n",
    "print('Test data shape: ', X_test.shape)\n",
    "print('Test labels shape: ', y_test.shape)\n",
    "print('dev data shape: ', X_dev.shape)\n",
    "print('dev labels shape: ', y_dev.shape)"
   ]
  },
  {
   "cell_type": "code",
   "execution_count": 4,
   "metadata": {},
   "outputs": [],
   "source": [
    "# Create one-hot vectors for label\n",
    "num_class = 10\n",
    "y_train_oh = np.zeros((y_train.shape[0], 10))\n",
    "y_train_oh[np.arange(y_train.shape[0]), y_train] = 1\n",
    "y_val_oh = np.zeros((y_val.shape[0], 10))\n",
    "y_val_oh[np.arange(y_val.shape[0]), y_val] = 1\n",
    "y_test_oh = np.zeros((y_test.shape[0], 10))\n",
    "y_test_oh[np.arange(y_test.shape[0]), y_test] = 1\n",
    "\n",
    "y_dev_oh = np.zeros((y_dev.shape[0], 10))\n",
    "y_dev_oh[np.arange(y_dev.shape[0]), y_dev] = 1"
   ]
  },
  {
   "cell_type": "markdown",
   "metadata": {},
   "source": [
    "# Regression as classifier\n",
    "The most simple and straightforward approach to learn a classifier is to map the input data (raw image values) to class label (one-hot vector). The loss function is defined as following: \n",
    "$$\\mathcal{L}=\\frac{1}{n}\\|\\mathbf{X}\\mathbf{W}-\\mathbf{y}\\|_F^2\\qquad\\qquad(1)$$\n",
    "Where:\n",
    "* $\\mathbf{W}\\in \\mathbb{R}^{(d+1)\\times C}$: Classifier weight\n",
    "* $\\mathbf{X}\\in \\mathbb{R}^{n\\times (d+1)}$: Dataset\n",
    "* $\\mathbf{y}\\in \\mathbb{R}^{n\\times C}$: Class label (one-hot vector)"
   ]
  },
  {
   "cell_type": "markdown",
   "metadata": {},
   "source": [
    "# Optimization\n",
    "Given the loss function (1), the next problem is how to solve the weight $\\mathbf{W}$. We now discuss 2 approaches: \n",
    " * Random search\n",
    " * Closed-form solution\n",
    "\n",
    "## Random search"
   ]
  },
  {
   "cell_type": "code",
   "execution_count": 5,
   "metadata": {
    "collapsed": true
   },
   "outputs": [
    {
     "name": "stdout",
     "output_type": "stream",
     "text": [
      "in attempt 0 the loss was 34.584989, best 34.584989\n",
      "in attempt 1 the loss was 32.742228, best 32.742228\n",
      "in attempt 2 the loss was 33.160128, best 32.742228\n",
      "in attempt 3 the loss was 33.415307, best 32.742228\n",
      "in attempt 4 the loss was 30.138346, best 30.138346\n",
      "in attempt 5 the loss was 34.948674, best 30.138346\n",
      "in attempt 6 the loss was 32.965973, best 30.138346\n",
      "in attempt 7 the loss was 34.918137, best 30.138346\n",
      "in attempt 8 the loss was 32.294794, best 30.138346\n",
      "in attempt 9 the loss was 32.126874, best 30.138346\n",
      "in attempt 10 the loss was 31.166088, best 30.138346\n",
      "in attempt 11 the loss was 34.075411, best 30.138346\n",
      "in attempt 12 the loss was 31.195480, best 30.138346\n",
      "in attempt 13 the loss was 32.638493, best 30.138346\n",
      "in attempt 14 the loss was 37.145719, best 30.138346\n",
      "in attempt 15 the loss was 35.623509, best 30.138346\n",
      "in attempt 16 the loss was 32.539644, best 30.138346\n",
      "in attempt 17 the loss was 32.865098, best 30.138346\n",
      "in attempt 18 the loss was 33.973129, best 30.138346\n",
      "in attempt 19 the loss was 32.522084, best 30.138346\n",
      "in attempt 20 the loss was 32.957806, best 30.138346\n",
      "in attempt 21 the loss was 33.585979, best 30.138346\n",
      "in attempt 22 the loss was 32.507745, best 30.138346\n",
      "in attempt 23 the loss was 34.235534, best 30.138346\n",
      "in attempt 24 the loss was 32.319535, best 30.138346\n",
      "in attempt 25 the loss was 33.779677, best 30.138346\n",
      "in attempt 26 the loss was 32.288827, best 30.138346\n",
      "in attempt 27 the loss was 33.289435, best 30.138346\n",
      "in attempt 28 the loss was 32.868451, best 30.138346\n",
      "in attempt 29 the loss was 32.106525, best 30.138346\n",
      "in attempt 30 the loss was 33.924781, best 30.138346\n",
      "in attempt 31 the loss was 32.749890, best 30.138346\n",
      "in attempt 32 the loss was 37.061445, best 30.138346\n",
      "in attempt 33 the loss was 30.424137, best 30.138346\n",
      "in attempt 34 the loss was 34.672037, best 30.138346\n",
      "in attempt 35 the loss was 33.579730, best 30.138346\n",
      "in attempt 36 the loss was 35.456837, best 30.138346\n",
      "in attempt 37 the loss was 33.319212, best 30.138346\n",
      "in attempt 38 the loss was 32.360866, best 30.138346\n",
      "in attempt 39 the loss was 36.350859, best 30.138346\n",
      "in attempt 40 the loss was 34.209386, best 30.138346\n",
      "in attempt 41 the loss was 34.008904, best 30.138346\n",
      "in attempt 42 the loss was 33.750351, best 30.138346\n",
      "in attempt 43 the loss was 34.551746, best 30.138346\n",
      "in attempt 44 the loss was 33.940903, best 30.138346\n",
      "in attempt 45 the loss was 34.247738, best 30.138346\n",
      "in attempt 46 the loss was 32.590547, best 30.138346\n",
      "in attempt 47 the loss was 35.363875, best 30.138346\n",
      "in attempt 48 the loss was 35.369957, best 30.138346\n",
      "in attempt 49 the loss was 33.035071, best 30.138346\n",
      "in attempt 50 the loss was 37.049055, best 30.138346\n",
      "in attempt 51 the loss was 32.885168, best 30.138346\n",
      "in attempt 52 the loss was 31.628220, best 30.138346\n",
      "in attempt 53 the loss was 33.244617, best 30.138346\n",
      "in attempt 54 the loss was 34.467995, best 30.138346\n",
      "in attempt 55 the loss was 34.363314, best 30.138346\n",
      "in attempt 56 the loss was 35.917236, best 30.138346\n",
      "in attempt 57 the loss was 32.522759, best 30.138346\n",
      "in attempt 58 the loss was 32.768395, best 30.138346\n",
      "in attempt 59 the loss was 35.309257, best 30.138346\n",
      "in attempt 60 the loss was 33.347134, best 30.138346\n",
      "in attempt 61 the loss was 33.450936, best 30.138346\n",
      "in attempt 62 the loss was 32.831332, best 30.138346\n",
      "in attempt 63 the loss was 32.640132, best 30.138346\n",
      "in attempt 64 the loss was 32.810023, best 30.138346\n",
      "in attempt 65 the loss was 34.843470, best 30.138346\n",
      "in attempt 66 the loss was 33.290925, best 30.138346\n",
      "in attempt 67 the loss was 36.720599, best 30.138346\n",
      "in attempt 68 the loss was 33.134931, best 30.138346\n",
      "in attempt 69 the loss was 32.255803, best 30.138346\n",
      "in attempt 70 the loss was 32.640937, best 30.138346\n",
      "in attempt 71 the loss was 32.591734, best 30.138346\n",
      "in attempt 72 the loss was 33.997416, best 30.138346\n",
      "in attempt 73 the loss was 34.428395, best 30.138346\n",
      "in attempt 74 the loss was 31.865540, best 30.138346\n",
      "in attempt 75 the loss was 34.075230, best 30.138346\n",
      "in attempt 76 the loss was 32.786628, best 30.138346\n",
      "in attempt 77 the loss was 33.204334, best 30.138346\n",
      "in attempt 78 the loss was 33.501741, best 30.138346\n",
      "in attempt 79 the loss was 33.501285, best 30.138346\n",
      "in attempt 80 the loss was 32.429033, best 30.138346\n",
      "in attempt 81 the loss was 33.193304, best 30.138346\n",
      "in attempt 82 the loss was 33.659201, best 30.138346\n",
      "in attempt 83 the loss was 35.416439, best 30.138346\n",
      "in attempt 84 the loss was 33.040760, best 30.138346\n",
      "in attempt 85 the loss was 33.297539, best 30.138346\n",
      "in attempt 86 the loss was 34.237956, best 30.138346\n",
      "in attempt 87 the loss was 31.215583, best 30.138346\n",
      "in attempt 88 the loss was 32.738583, best 30.138346\n",
      "in attempt 89 the loss was 34.129418, best 30.138346\n",
      "in attempt 90 the loss was 33.061938, best 30.138346\n",
      "in attempt 91 the loss was 33.802207, best 30.138346\n",
      "in attempt 92 the loss was 32.481785, best 30.138346\n",
      "in attempt 93 the loss was 34.712956, best 30.138346\n",
      "in attempt 94 the loss was 33.498338, best 30.138346\n",
      "in attempt 95 the loss was 37.406749, best 30.138346\n",
      "in attempt 96 the loss was 32.674211, best 30.138346\n",
      "in attempt 97 the loss was 32.395267, best 30.138346\n",
      "in attempt 98 the loss was 33.646270, best 30.138346\n",
      "in attempt 99 the loss was 32.294125, best 30.138346\n"
     ]
    }
   ],
   "source": [
    "bestloss = float('inf')\n",
    "for num in range(100):\n",
    "    W = np.random.randn(3073, 10) * 0.0001\n",
    "    loss = np.linalg.norm(X_dev.dot(W) - y_dev_oh)\n",
    "    if (loss < bestloss):\n",
    "        bestloss = loss\n",
    "        bestW = W\n",
    "    print('in attempt %d the loss was %f, best %f' % (num, loss, bestloss))"
   ]
  },
  {
   "cell_type": "code",
   "execution_count": 6,
   "metadata": {
    "collapsed": true
   },
   "outputs": [
    {
     "name": "stdout",
     "output_type": "stream",
     "text": [
      "Accuracy on train set:  9.4\n",
      "Accuracy on test set:  8.7\n"
     ]
    }
   ],
   "source": [
    "# How bestW perform:\n",
    "print('Accuracy on train set: ', np.sum(np.argmin(np.abs(1 - X_dev.dot(W)), axis=1) == y_dev).astype(np.float32)/y_dev.shape[0]*100)\n",
    "print('Accuracy on test set: ', np.sum(np.argmin(np.abs(1 - X_test.dot(W)), axis=1) == y_test).astype(np.float32)/y_test.shape[0]*100)"
   ]
  },
  {
   "cell_type": "markdown",
   "metadata": {},
   "source": [
    "You can clearly see that the performance is very low, almost at the random level."
   ]
  },
  {
   "cell_type": "markdown",
   "metadata": {},
   "source": [
    "## Closed-form solution\n",
    "The closed-form solution is achieved by:\n",
    "$$\\frac{\\partial\\mathcal{L}}{\\partial \\mathbf{W}}=\\frac{2}{n}\\mathbf{X}^T(\\mathbf{X}\\mathbf{W}-\\mathbf{y})=0$$\n",
    "\n",
    "$$\\Leftrightarrow\\mathbf{W}^\\ast=(\\mathbf{X}^T\\mathbf{X})^{-1}\\mathbf{X}^T\\mathbf{y}$$"
   ]
  },
  {
   "cell_type": "code",
   "execution_count": 7,
   "metadata": {},
   "outputs": [],
   "source": [
    "################################################################################\n",
    "# TODO:                                                                        #\n",
    "# Implement the closed-form solution of the weight W.                          #\n",
    "################################################################################\n",
    "\n",
    "A = np.matmul(X_train.T, X_train)\n",
    "B = np.matmul(X_train.T, y_train_oh)\n",
    "W = np.matmul(np.linalg.inv(A), B)\n",
    "\n",
    "################################################################################\n",
    "#                              END OF YOUR CODE                                #\n",
    "################################################################################"
   ]
  },
  {
   "cell_type": "code",
   "execution_count": 8,
   "metadata": {
    "collapsed": true
   },
   "outputs": [
    {
     "name": "stdout",
     "output_type": "stream",
     "text": [
      "Train set accuracy:  51.163265306122454\n",
      "Test set accuracy:  36.199999999999996\n"
     ]
    }
   ],
   "source": [
    "# Check accuracy:\n",
    "print('Train set accuracy: ', np.sum(np.argmin(np.abs(1 - X_train.dot(W)), axis=1) == y_train).astype(np.float32)/y_train.shape[0]*100)\n",
    "print('Test set accuracy: ', np.sum(np.argmin(np.abs(1 - X_test.dot(W)), axis=1) == y_test).astype(np.float32)/y_test.shape[0]*100)"
   ]
  },
  {
   "cell_type": "markdown",
   "metadata": {},
   "source": [
    "Now, you can see that the performance is much better."
   ]
  },
  {
   "cell_type": "markdown",
   "metadata": {},
   "source": [
    "## Regularization\n",
    "A simple way to improve performance is to include the L2-regularization penalty.\n",
    "$$\\mathcal{L}=\\frac{1}{n}\\|\\mathbf{X}\\mathbf{W}-\\mathbf{y}\\|_F^2 +\\lambda \\|\\mathbf{W}\\|_F^2 \\qquad\\qquad(2)$$\n",
    "The closed-form solution now is: \n",
    "$$\\Leftrightarrow\\mathbf{W}^\\ast=(\\mathbf{X}^T\\mathbf{X}+\\lambda n\\mathbf{I})^{-1}\\mathbf{X}^T\\mathbf{y}$$"
   ]
  },
  {
   "cell_type": "code",
   "execution_count": 9,
   "metadata": {},
   "outputs": [],
   "source": [
    "# try several values of lambda to see how it helps:\n",
    "lambdas = [0.01, 0.1, 1, 10, 100, 1000, 10000, 100000]\n",
    "train_acc = np.zeros((len(lambdas)))\n",
    "test_acc = np.zeros((len(lambdas)))\n",
    "for i in range(len(lambdas)):\n",
    "    l = lambdas[i]\n",
    "    n,d = X_train.shape[0], X_train.shape[1]\n",
    "    ################################################################################\n",
    "    # TODO:                                                                        #\n",
    "    # Implement the closed-form solution of the weight W with regularization.      #\n",
    "    ################################################################################\n",
    "    \n",
    "    A = np.matmul(X_train.T, X_train) + (l * n * np.identity(d))\n",
    "    B = np.matmul(X_train.T, y_train_oh)\n",
    "    W = np.matmul(np.linalg.inv(A), B)\n",
    "    \n",
    "    ################################################################################\n",
    "    #                              END OF YOUR CODE                                #\n",
    "    ################################################################################\n",
    "    train_acc[i] = np.sum(np.argmin(np.abs(1 - X_train.dot(W)), axis=1) == y_train).astype(np.float32)/y_train.shape[0]*100\n",
    "    test_acc[i]  = np.sum(np.argmin(np.abs(1 - X_test.dot(W)), axis=1) == y_test).astype(np.float32)/y_test.shape[0]*100"
   ]
  },
  {
   "cell_type": "code",
   "execution_count": 10,
   "metadata": {
    "collapsed": true
   },
   "outputs": [
    {
     "data": {
      "image/png": "[encoded data removed]",
      "text/plain": [
       "<Figure size 720x576 with 1 Axes>"
      ]
     },
     "metadata": {
      "needs_background": "light"
     },
     "output_type": "display_data"
    }
   ],
   "source": [
    "plt.semilogx(lambdas, train_acc, 'r', label=\"Training accuracy\")\n",
    "plt.semilogx(lambdas, test_acc, 'g', label=\"Testing accuracy\")\n",
    "\n",
    "plt.legend()\n",
    "plt.grid(True)\n",
    "plt.show()"
   ]
  },
  {
   "cell_type": "markdown",
   "metadata": {},
   "source": [
    "**Question:** Try to explain why the performances on the training and test set have such behaviors as we change the value of $\\lambda$."
   ]
  },
  {
   "cell_type": "markdown",
   "metadata": {},
   "source": [
    "**Your answer:**  \n",
    "The purpose of have a $\\lambda$ parameter is to introduce the idea of regularization to solve the problem of overfitting.\n",
    "\n",
    "Overfitting refers to the phenomenon where our model performs very well with the training dataset but experiences poor results with the testing dataset. With regularization, we put more pressure on the number of weight parameters. Therefore, by penalising the number of weight parameters, the loss function output value will increase as the number of weight parameters increase.\n",
    "\n",
    "Thus, at small values of $\\lambda$, we will see a high training accuracy since we can have a large number of weight parameters that helps to fit the model closely to the training data. However, overfitting will occur, hence we observe poor testing accuracy at this value of $\\lambda$.\n",
    "\n",
    "At larger values of $\\lambda$, we will see that training accuracy starts to drop, since we reduce the number of weight parameters to minimise the loss function. This means that our model will no longer be as closely fitted to the training data at before. This will also cause the testing accuracy to increase since our model will be able to generalise data better with lesser weight parameters. \n",
    "\n",
    "When the value of $\\lambda$ grows too large, both training and testing accuracies will suffer, as there are too little weight parameters and the model cannot generalise data well anymore. In our case, we see that once the value of $\\lambda$ increases beyond 10^3, both training and testing accuracies starts to dip instead."
   ]
  },
  {
   "cell_type": "markdown",
   "metadata": {},
   "source": [
    "## Softmax Classifier\n",
    "\n",
    "The predicted probability for the $j$-th class given a sample vector $x$ and a weight $W$ is:\n",
    "\n",
    "$$\\displaystyle{P(y=j\\mid x)=\\frac{e^{-xw_j}}{\\sum\\limits_{c=1}^{C}e^{-xw_c}}}$$ \n",
    "\n",
    "![softmax](imgs/softmax.png \"Example of Softmax\")\n",
    "\n",
    "Your code for this section will all be written inside **classifiers/softmax.py**. \n"
   ]
  },
  {
   "cell_type": "code",
   "execution_count": 11,
   "metadata": {
    "scrolled": true
   },
   "outputs": [
    {
     "name": "stdout",
     "output_type": "stream",
     "text": [
      "loss: 2.337964\n",
      "sanity check: 2.302585\n"
     ]
    }
   ],
   "source": [
    "# First implement the naive softmax loss function with nested loops.\n",
    "# Open the file classifiers/softmax.py and implement the\n",
    "# softmax_loss_naive function.\n",
    "\n",
    "from classifiers.softmax import softmax_loss_naive\n",
    "import time\n",
    "\n",
    "# Generate a random softmax weight matrix and use it to compute the loss.\n",
    "W = np.random.randn(3073, 10) * 0.0001\n",
    "loss, grad = softmax_loss_naive(W, X_dev, y_dev, 0.0)\n",
    "\n",
    "# As a rough sanity check, our loss should be something close to -log(0.1).\n",
    "print('loss: %f' % loss)\n",
    "print('sanity check: %f' % (-np.log(0.1)))"
   ]
  },
  {
   "cell_type": "markdown",
   "metadata": {},
   "source": [
    "**Question:** Why do we expect our loss to be close to -log(0.1)? Explain briefly.**"
   ]
  },
  {
   "cell_type": "markdown",
   "metadata": {},
   "source": [
    "**Your answer:**  \n",
    "Since we are calculating our loss based on random weights (i.e., we haven't started the \"learning\" process yet), we expect that the initial loss has to be close to -log(0.1) because initially all the classes are equally likely to be chosen. Since CIFAR-10 consists of samples which belong to one of ten classes, the probability of the correct class will be 1/10 = 0.1. The softmax loss is the negative log probability of the correct class, therefore it is -log(0.1)."
   ]
  },
  {
   "cell_type": "markdown",
   "metadata": {},
   "source": [
    "# Optimization\n",
    "\n",
    "\n",
    "## Random search"
   ]
  },
  {
   "cell_type": "code",
   "execution_count": 12,
   "metadata": {
    "collapsed": true
   },
   "outputs": [
    {
     "name": "stdout",
     "output_type": "stream",
     "text": [
      "in attempt 0 the loss was 2.358189, best 2.358189\n",
      "in attempt 1 the loss was 2.381420, best 2.358189\n",
      "in attempt 2 the loss was 2.335523, best 2.335523\n",
      "in attempt 3 the loss was 2.310783, best 2.310783\n",
      "in attempt 4 the loss was 2.353139, best 2.310783\n",
      "in attempt 5 the loss was 2.392291, best 2.310783\n",
      "in attempt 6 the loss was 2.362636, best 2.310783\n",
      "in attempt 7 the loss was 2.365318, best 2.310783\n",
      "in attempt 8 the loss was 2.416753, best 2.310783\n",
      "in attempt 9 the loss was 2.364832, best 2.310783\n",
      "in attempt 10 the loss was 2.358573, best 2.310783\n",
      "in attempt 11 the loss was 2.353233, best 2.310783\n",
      "in attempt 12 the loss was 2.400715, best 2.310783\n",
      "in attempt 13 the loss was 2.346051, best 2.310783\n",
      "in attempt 14 the loss was 2.364322, best 2.310783\n",
      "in attempt 15 the loss was 2.339410, best 2.310783\n",
      "in attempt 16 the loss was 2.340192, best 2.310783\n",
      "in attempt 17 the loss was 2.363616, best 2.310783\n",
      "in attempt 18 the loss was 2.359163, best 2.310783\n",
      "in attempt 19 the loss was 2.369597, best 2.310783\n",
      "in attempt 20 the loss was 2.388587, best 2.310783\n",
      "in attempt 21 the loss was 2.392862, best 2.310783\n",
      "in attempt 22 the loss was 2.313808, best 2.310783\n",
      "in attempt 23 the loss was 2.423103, best 2.310783\n",
      "in attempt 24 the loss was 2.359853, best 2.310783\n",
      "in attempt 25 the loss was 2.364470, best 2.310783\n",
      "in attempt 26 the loss was 2.374066, best 2.310783\n",
      "in attempt 27 the loss was 2.317560, best 2.310783\n",
      "in attempt 28 the loss was 2.359727, best 2.310783\n",
      "in attempt 29 the loss was 2.388236, best 2.310783\n",
      "in attempt 30 the loss was 2.356464, best 2.310783\n",
      "in attempt 31 the loss was 2.417594, best 2.310783\n",
      "in attempt 32 the loss was 2.373376, best 2.310783\n",
      "in attempt 33 the loss was 2.387114, best 2.310783\n",
      "in attempt 34 the loss was 2.362240, best 2.310783\n",
      "in attempt 35 the loss was 2.331767, best 2.310783\n",
      "in attempt 36 the loss was 2.365536, best 2.310783\n",
      "in attempt 37 the loss was 2.367833, best 2.310783\n",
      "in attempt 38 the loss was 2.278711, best 2.278711\n",
      "in attempt 39 the loss was 2.355449, best 2.278711\n",
      "in attempt 40 the loss was 2.390439, best 2.278711\n",
      "in attempt 41 the loss was 2.357839, best 2.278711\n",
      "in attempt 42 the loss was 2.321468, best 2.278711\n",
      "in attempt 43 the loss was 2.326473, best 2.278711\n",
      "in attempt 44 the loss was 2.364281, best 2.278711\n",
      "in attempt 45 the loss was 2.394717, best 2.278711\n",
      "in attempt 46 the loss was 2.322318, best 2.278711\n",
      "in attempt 47 the loss was 2.400970, best 2.278711\n",
      "in attempt 48 the loss was 2.359326, best 2.278711\n",
      "in attempt 49 the loss was 2.272516, best 2.272516\n",
      "in attempt 50 the loss was 2.310517, best 2.272516\n",
      "in attempt 51 the loss was 2.365610, best 2.272516\n",
      "in attempt 52 the loss was 2.365215, best 2.272516\n",
      "in attempt 53 the loss was 2.381956, best 2.272516\n",
      "in attempt 54 the loss was 2.401309, best 2.272516\n",
      "in attempt 55 the loss was 2.387564, best 2.272516\n",
      "in attempt 56 the loss was 2.322308, best 2.272516\n",
      "in attempt 57 the loss was 2.360626, best 2.272516\n",
      "in attempt 58 the loss was 2.310527, best 2.272516\n",
      "in attempt 59 the loss was 2.383944, best 2.272516\n",
      "in attempt 60 the loss was 2.347391, best 2.272516\n",
      "in attempt 61 the loss was 2.317753, best 2.272516\n",
      "in attempt 62 the loss was 2.330848, best 2.272516\n",
      "in attempt 63 the loss was 2.328584, best 2.272516\n",
      "in attempt 64 the loss was 2.414387, best 2.272516\n",
      "in attempt 65 the loss was 2.307981, best 2.272516\n",
      "in attempt 66 the loss was 2.383025, best 2.272516\n",
      "in attempt 67 the loss was 2.367787, best 2.272516\n",
      "in attempt 68 the loss was 2.326626, best 2.272516\n",
      "in attempt 69 the loss was 2.327702, best 2.272516\n",
      "in attempt 70 the loss was 2.391061, best 2.272516\n",
      "in attempt 71 the loss was 2.384977, best 2.272516\n",
      "in attempt 72 the loss was 2.351067, best 2.272516\n",
      "in attempt 73 the loss was 2.345127, best 2.272516\n",
      "in attempt 74 the loss was 2.384248, best 2.272516\n",
      "in attempt 75 the loss was 2.400660, best 2.272516\n",
      "in attempt 76 the loss was 2.330432, best 2.272516\n",
      "in attempt 77 the loss was 2.344338, best 2.272516\n",
      "in attempt 78 the loss was 2.330186, best 2.272516\n",
      "in attempt 79 the loss was 2.314007, best 2.272516\n",
      "in attempt 80 the loss was 2.366572, best 2.272516\n",
      "in attempt 81 the loss was 2.377288, best 2.272516\n",
      "in attempt 82 the loss was 2.343578, best 2.272516\n",
      "in attempt 83 the loss was 2.346955, best 2.272516\n",
      "in attempt 84 the loss was 2.425035, best 2.272516\n",
      "in attempt 85 the loss was 2.326370, best 2.272516\n",
      "in attempt 86 the loss was 2.423469, best 2.272516\n",
      "in attempt 87 the loss was 2.342048, best 2.272516\n",
      "in attempt 88 the loss was 2.411416, best 2.272516\n",
      "in attempt 89 the loss was 2.389891, best 2.272516\n",
      "in attempt 90 the loss was 2.319877, best 2.272516\n",
      "in attempt 91 the loss was 2.385751, best 2.272516\n",
      "in attempt 92 the loss was 2.341823, best 2.272516\n",
      "in attempt 93 the loss was 2.425128, best 2.272516\n",
      "in attempt 94 the loss was 2.384023, best 2.272516\n",
      "in attempt 95 the loss was 2.351891, best 2.272516\n",
      "in attempt 96 the loss was 2.343007, best 2.272516\n",
      "in attempt 97 the loss was 2.313557, best 2.272516\n",
      "in attempt 98 the loss was 2.326912, best 2.272516\n",
      "in attempt 99 the loss was 2.345184, best 2.272516\n"
     ]
    }
   ],
   "source": [
    "bestloss = float('inf')\n",
    "for num in range(100):\n",
    "    W = np.random.randn(3073, 10) * 0.0001\n",
    "    loss, _ = softmax_loss_naive(W, X_dev, y_dev, 0.0)\n",
    "    if (loss < bestloss):\n",
    "        bestloss = loss\n",
    "        bestW = W\n",
    "    print('in attempt %d the loss was %f, best %f' % (num, loss, bestloss))"
   ]
  },
  {
   "cell_type": "code",
   "execution_count": 13,
   "metadata": {
    "collapsed": true
   },
   "outputs": [
    {
     "name": "stdout",
     "output_type": "stream",
     "text": [
      "Accuracy on train set 0.132959\n",
      "Accuracy on test set 0.158000\n"
     ]
    }
   ],
   "source": [
    "# How bestW perform on trainset\n",
    "scores = X_train.dot(bestW)\n",
    "y_pred = np.argmax(scores, axis=1)\n",
    "print('Accuracy on train set %f' % np.mean(y_pred == y_train))\n",
    "\n",
    "# evaluate performance of test set\n",
    "scores = X_test.dot(bestW)\n",
    "y_pred = np.argmax(scores, axis=1)\n",
    "print('Accuracy on test set %f' % np.mean(y_pred == y_test))"
   ]
  },
  {
   "cell_type": "markdown",
   "metadata": {},
   "source": [
    "Compare the performance when using random search with *regression classifier* and *softmax classifier*. You can see how much useful the softmax classifier is."
   ]
  },
  {
   "cell_type": "markdown",
   "metadata": {},
   "source": [
    "## Stochastic Gradient descent\n",
    "Even though it is possible to achieve closed-form solution with softmax classifier, it would be more complicated. In fact, we could achieve very good results with gradient descent approach. Additionally, in case of very large dataset, it is impossible to load the whole dataset into the memory. Gradient descent can help to optimize the loss function in batch. \n",
    "\n",
    "$$\\mathbf{W}^{t+1}=\\mathbf{W}^{t}−\\alpha \\frac{\\partial\\mathcal{L(\\mathbf{x};\\mathbf{W}^{t})}}{\\partial\\mathbf{W}^{t}}$$\n",
    "\n",
    "Where $\\alpha$ is the learning rate, $\\mathcal{L}$ is a loss function, and $\\mathbf{x}$ is a batch of training dataset."
   ]
  },
  {
   "cell_type": "code",
   "execution_count": 14,
   "metadata": {
    "collapsed": true
   },
   "outputs": [
    {
     "name": "stdout",
     "output_type": "stream",
     "text": [
      "numerical: -1.268520 analytic: -1.268520, relative error: 2.673774e-09\n",
      "numerical: -1.498243 analytic: -1.498243, relative error: 4.546300e-09\n",
      "numerical: -1.091292 analytic: -1.091292, relative error: 2.083992e-08\n",
      "numerical: -1.282992 analytic: -1.282992, relative error: 2.987137e-08\n",
      "numerical: -2.215568 analytic: -2.215568, relative error: 9.756394e-09\n",
      "numerical: -2.071038 analytic: -2.071038, relative error: 1.663883e-08\n",
      "numerical: 2.138951 analytic: 2.138951, relative error: 2.953210e-08\n",
      "numerical: -6.087443 analytic: -6.087443, relative error: 2.667196e-09\n",
      "numerical: 1.951866 analytic: 1.951866, relative error: 9.234415e-09\n",
      "numerical: 2.643592 analytic: 2.643592, relative error: 8.611758e-09\n",
      "numerical: 3.104153 analytic: 3.104153, relative error: 1.037942e-09\n",
      "numerical: -3.464932 analytic: -3.464933, relative error: 2.571873e-08\n",
      "numerical: 1.950068 analytic: 1.950068, relative error: 4.875809e-09\n",
      "numerical: 3.118712 analytic: 3.118712, relative error: 3.211463e-08\n",
      "numerical: -0.523393 analytic: -0.523393, relative error: 1.889307e-08\n",
      "numerical: -0.842392 analytic: -0.842392, relative error: 1.106036e-07\n",
      "numerical: 0.510743 analytic: 0.510743, relative error: 1.861022e-08\n",
      "numerical: 2.391333 analytic: 2.391333, relative error: 3.636120e-08\n",
      "numerical: 1.400442 analytic: 1.400442, relative error: 2.312027e-08\n",
      "numerical: -0.925175 analytic: -0.925175, relative error: 4.953093e-08\n"
     ]
    }
   ],
   "source": [
    "# Complete the implementation of softmax_loss_naive and implement a (naive)\n",
    "# version of the gradient that uses nested loops.\n",
    "loss, grad = softmax_loss_naive(W, X_dev, y_dev, 0.0)\n",
    "\n",
    "# Use numeric gradient checking as a debugging tool.\n",
    "# The numeric gradient should be close to the analytic gradient.\n",
    "from gradient_check import grad_check_sparse\n",
    "f = lambda w: softmax_loss_naive(w, X_dev, y_dev, 0.0)[0]\n",
    "grad_numerical = grad_check_sparse(f, W, grad, 10)\n",
    "\n",
    "# gradient check with regularization\n",
    "loss, grad = softmax_loss_naive(W, X_dev, y_dev, 1e2)\n",
    "f = lambda w: softmax_loss_naive(w, X_dev, y_dev, 1e2)[0]\n",
    "grad_numerical = grad_check_sparse(f, W, grad, 10)"
   ]
  },
  {
   "cell_type": "code",
   "execution_count": 17,
   "metadata": {
    "collapsed": true
   },
   "outputs": [
    {
     "name": "stdout",
     "output_type": "stream",
     "text": [
      "naive loss: 2.345184e+00 computed in 0.084995s\n",
      "vectorized loss: 2.345184e+00 computed in 0.004003s\n",
      "Loss difference: 0.000000\n",
      "Gradient difference: 0.000000\n"
     ]
    }
   ],
   "source": [
    "# Now that we have a naive implementation of the softmax loss function and its gradient,\n",
    "# implement a vectorized version in softmax_loss_vectorized.\n",
    "# The two versions should compute the same results, but the vectorized version should be\n",
    "# much faster.\n",
    "tic = time.time()\n",
    "loss_naive, grad_naive = softmax_loss_naive(W, X_dev, y_dev, 0.00001)\n",
    "toc = time.time()\n",
    "print('naive loss: %e computed in %fs' % (loss_naive, toc - tic))\n",
    "\n",
    "from classifiers.softmax import softmax_loss_vectorized\n",
    "tic = time.time()\n",
    "loss_vectorized, grad_vectorized = softmax_loss_vectorized(W, X_dev, y_dev, 0.00001)\n",
    "toc = time.time()\n",
    "print('vectorized loss: %e computed in %fs' % (loss_vectorized, toc - tic))\n",
    "\n",
    "# We use the Frobenius norm to compare the two versions\n",
    "# of the gradient.\n",
    "grad_difference = np.linalg.norm(grad_naive - grad_vectorized, ord='fro')\n",
    "print('Loss difference: %f' % np.abs(loss_naive - loss_vectorized))\n",
    "print('Gradient difference: %f' % grad_difference)"
   ]
  },
  {
   "cell_type": "code",
   "execution_count": 18,
   "metadata": {
    "collapsed": true
   },
   "outputs": [
    {
     "name": "stdout",
     "output_type": "stream",
     "text": [
      "iteration 0 / 1500: loss 779.794758\n",
      "iteration 100 / 1500: loss 285.888821\n",
      "iteration 200 / 1500: loss 106.043107\n",
      "iteration 300 / 1500: loss 40.132818\n",
      "iteration 400 / 1500: loss 16.034196\n",
      "iteration 500 / 1500: loss 7.201730\n",
      "iteration 600 / 1500: loss 3.971111\n",
      "iteration 700 / 1500: loss 2.785901\n",
      "iteration 800 / 1500: loss 2.359809\n",
      "iteration 900 / 1500: loss 2.182554\n",
      "iteration 1000 / 1500: loss 2.132032\n",
      "iteration 1100 / 1500: loss 2.117795\n",
      "iteration 1200 / 1500: loss 2.118989\n",
      "iteration 1300 / 1500: loss 2.062584\n",
      "iteration 1400 / 1500: loss 2.073079\n",
      "That took 4.501000s\n"
     ]
    }
   ],
   "source": [
    "from classifiers.linear_classifier import *\n",
    "\n",
    "classifier = Softmax()\n",
    "tic = time.time()\n",
    "loss_hist = classifier.train(X_train, y_train, learning_rate=1e-7, reg=5e4,\n",
    "                                  num_iters=1500, verbose=True)\n",
    "toc = time.time()\n",
    "print('That took %fs' % (toc - tic))"
   ]
  },
  {
   "cell_type": "code",
   "execution_count": 19,
   "metadata": {
    "collapsed": true
   },
   "outputs": [
    {
     "name": "stdout",
     "output_type": "stream",
     "text": [
      "training accuracy: 0.334000\n",
      "validation accuracy: 0.353000\n"
     ]
    }
   ],
   "source": [
    "# Write the Softmax.predict function and evaluate the performance on both the\n",
    "# training and validation set\n",
    "y_train_pred = classifier.predict(X_train)\n",
    "print('training accuracy: %f' % (np.mean(y_train == y_train_pred), ))\n",
    "y_val_pred = classifier.predict(X_val)\n",
    "print('validation accuracy: %f' % (np.mean(y_val == y_val_pred), ))"
   ]
  },
  {
   "cell_type": "code",
   "execution_count": 20,
   "metadata": {
    "collapsed": true
   },
   "outputs": [
    {
     "data": {
      "image/png": "[encoded data removed]",
      "text/plain": [
       "<Figure size 720x576 with 1 Axes>"
      ]
     },
     "metadata": {
      "needs_background": "light"
     },
     "output_type": "display_data"
    }
   ],
   "source": [
    "# A useful debugging strategy is to plot the loss as a function of\n",
    "# iteration number:\n",
    "plt.plot(loss_hist)\n",
    "plt.xlabel('Iteration number')\n",
    "plt.ylabel('Loss value')\n",
    "plt.show()"
   ]
  },
  {
   "cell_type": "code",
   "execution_count": 21,
   "metadata": {
    "collapsed": true
   },
   "outputs": [
    {
     "name": "stdout",
     "output_type": "stream",
     "text": [
      "softmax on raw pixels final test set accuracy: 35.50\n"
     ]
    }
   ],
   "source": [
    "# evaluate on test set\n",
    "# Evaluate the best softmax on test set\n",
    "y_test_pred = classifier.predict(X_test)\n",
    "test_accuracy = np.mean(y_test == y_test_pred)\n",
    "print('softmax on raw pixels final test set accuracy: %.2f' % (100*test_accuracy, ))"
   ]
  }
 ],
 "metadata": {
  "anaconda-cloud": {},
  "kernelspec": {
   "display_name": "Python 3",
   "language": "python",
   "name": "python3"
  },
  "language_info": {
   "codemirror_mode": {
    "name": "ipython",
    "version": 3
   },
   "file_extension": ".py",
   "mimetype": "text/x-python",
   "name": "python",
   "nbconvert_exporter": "python",
   "pygments_lexer": "ipython3",
   "version": "3.9.4"
  }
 },
 "nbformat": 4,
 "nbformat_minor": 1
}
